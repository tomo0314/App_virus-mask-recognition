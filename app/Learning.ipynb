{
  "nbformat": 4,
  "nbformat_minor": 0,
  "metadata": {
    "colab": {
      "name": "Learning.ipynb",
      "provenance": [],
      "toc_visible": true
    },
    "kernelspec": {
      "name": "python3",
      "display_name": "Python 3"
    },
    "accelerator": "GPU",
    "widgets": {
      "application/vnd.jupyter.widget-state+json": {
        "41d2b53555a349aabd086a255010d53c": {
          "model_module": "@jupyter-widgets/controls",
          "model_name": "HBoxModel",
          "state": {
            "_view_name": "HBoxView",
            "_dom_classes": [],
            "_model_name": "HBoxModel",
            "_view_module": "@jupyter-widgets/controls",
            "_model_module_version": "1.5.0",
            "_view_count": null,
            "_view_module_version": "1.5.0",
            "box_style": "",
            "layout": "IPY_MODEL_52e886ee895c43359175c82bde6e882e",
            "_model_module": "@jupyter-widgets/controls",
            "children": [
              "IPY_MODEL_1bc27bae041c4910ab5ee71b9a695487",
              "IPY_MODEL_d25eb852cfd54af28f7b25562450e72e"
            ]
          }
        },
        "52e886ee895c43359175c82bde6e882e": {
          "model_module": "@jupyter-widgets/base",
          "model_name": "LayoutModel",
          "state": {
            "_view_name": "LayoutView",
            "grid_template_rows": null,
            "right": null,
            "justify_content": null,
            "_view_module": "@jupyter-widgets/base",
            "overflow": null,
            "_model_module_version": "1.2.0",
            "_view_count": null,
            "flex_flow": null,
            "width": null,
            "min_width": null,
            "border": null,
            "align_items": null,
            "bottom": null,
            "_model_module": "@jupyter-widgets/base",
            "top": null,
            "grid_column": null,
            "overflow_y": null,
            "overflow_x": null,
            "grid_auto_flow": null,
            "grid_area": null,
            "grid_template_columns": null,
            "flex": null,
            "_model_name": "LayoutModel",
            "justify_items": null,
            "grid_row": null,
            "max_height": null,
            "align_content": null,
            "visibility": null,
            "align_self": null,
            "height": null,
            "min_height": null,
            "padding": null,
            "grid_auto_rows": null,
            "grid_gap": null,
            "max_width": null,
            "order": null,
            "_view_module_version": "1.2.0",
            "grid_template_areas": null,
            "object_position": null,
            "object_fit": null,
            "grid_auto_columns": null,
            "margin": null,
            "display": null,
            "left": null
          }
        },
        "1bc27bae041c4910ab5ee71b9a695487": {
          "model_module": "@jupyter-widgets/controls",
          "model_name": "IntProgressModel",
          "state": {
            "_view_name": "ProgressView",
            "style": "IPY_MODEL_7a444a50d5104dbaa45b6d4cdc89fcd9",
            "_dom_classes": [],
            "description": "mask_data: 100%",
            "_model_name": "IntProgressModel",
            "bar_style": "success",
            "max": 150,
            "_view_module": "@jupyter-widgets/controls",
            "_model_module_version": "1.5.0",
            "value": 150,
            "_view_count": null,
            "_view_module_version": "1.5.0",
            "orientation": "horizontal",
            "min": 0,
            "description_tooltip": null,
            "_model_module": "@jupyter-widgets/controls",
            "layout": "IPY_MODEL_a21b18dadfc943d4840e434c03fbaaf7"
          }
        },
        "d25eb852cfd54af28f7b25562450e72e": {
          "model_module": "@jupyter-widgets/controls",
          "model_name": "HTMLModel",
          "state": {
            "_view_name": "HTMLView",
            "style": "IPY_MODEL_7aee961bda554201a487f55997a407d2",
            "_dom_classes": [],
            "description": "",
            "_model_name": "HTMLModel",
            "placeholder": "​",
            "_view_module": "@jupyter-widgets/controls",
            "_model_module_version": "1.5.0",
            "value": " 150/150 [03:36&lt;00:00,  1.44s/it, file=/content/drive/My Drive/Dataset/mask_data/mask (10).jpg]",
            "_view_count": null,
            "_view_module_version": "1.5.0",
            "description_tooltip": null,
            "_model_module": "@jupyter-widgets/controls",
            "layout": "IPY_MODEL_78add5c7948842fe8c0b622167fcab94"
          }
        },
        "7a444a50d5104dbaa45b6d4cdc89fcd9": {
          "model_module": "@jupyter-widgets/controls",
          "model_name": "ProgressStyleModel",
          "state": {
            "_view_name": "StyleView",
            "_model_name": "ProgressStyleModel",
            "description_width": "initial",
            "_view_module": "@jupyter-widgets/base",
            "_model_module_version": "1.5.0",
            "_view_count": null,
            "_view_module_version": "1.2.0",
            "bar_color": null,
            "_model_module": "@jupyter-widgets/controls"
          }
        },
        "a21b18dadfc943d4840e434c03fbaaf7": {
          "model_module": "@jupyter-widgets/base",
          "model_name": "LayoutModel",
          "state": {
            "_view_name": "LayoutView",
            "grid_template_rows": null,
            "right": null,
            "justify_content": null,
            "_view_module": "@jupyter-widgets/base",
            "overflow": null,
            "_model_module_version": "1.2.0",
            "_view_count": null,
            "flex_flow": null,
            "width": null,
            "min_width": null,
            "border": null,
            "align_items": null,
            "bottom": null,
            "_model_module": "@jupyter-widgets/base",
            "top": null,
            "grid_column": null,
            "overflow_y": null,
            "overflow_x": null,
            "grid_auto_flow": null,
            "grid_area": null,
            "grid_template_columns": null,
            "flex": null,
            "_model_name": "LayoutModel",
            "justify_items": null,
            "grid_row": null,
            "max_height": null,
            "align_content": null,
            "visibility": null,
            "align_self": null,
            "height": null,
            "min_height": null,
            "padding": null,
            "grid_auto_rows": null,
            "grid_gap": null,
            "max_width": null,
            "order": null,
            "_view_module_version": "1.2.0",
            "grid_template_areas": null,
            "object_position": null,
            "object_fit": null,
            "grid_auto_columns": null,
            "margin": null,
            "display": null,
            "left": null
          }
        },
        "7aee961bda554201a487f55997a407d2": {
          "model_module": "@jupyter-widgets/controls",
          "model_name": "DescriptionStyleModel",
          "state": {
            "_view_name": "StyleView",
            "_model_name": "DescriptionStyleModel",
            "description_width": "",
            "_view_module": "@jupyter-widgets/base",
            "_model_module_version": "1.5.0",
            "_view_count": null,
            "_view_module_version": "1.2.0",
            "_model_module": "@jupyter-widgets/controls"
          }
        },
        "78add5c7948842fe8c0b622167fcab94": {
          "model_module": "@jupyter-widgets/base",
          "model_name": "LayoutModel",
          "state": {
            "_view_name": "LayoutView",
            "grid_template_rows": null,
            "right": null,
            "justify_content": null,
            "_view_module": "@jupyter-widgets/base",
            "overflow": null,
            "_model_module_version": "1.2.0",
            "_view_count": null,
            "flex_flow": null,
            "width": null,
            "min_width": null,
            "border": null,
            "align_items": null,
            "bottom": null,
            "_model_module": "@jupyter-widgets/base",
            "top": null,
            "grid_column": null,
            "overflow_y": null,
            "overflow_x": null,
            "grid_auto_flow": null,
            "grid_area": null,
            "grid_template_columns": null,
            "flex": null,
            "_model_name": "LayoutModel",
            "justify_items": null,
            "grid_row": null,
            "max_height": null,
            "align_content": null,
            "visibility": null,
            "align_self": null,
            "height": null,
            "min_height": null,
            "padding": null,
            "grid_auto_rows": null,
            "grid_gap": null,
            "max_width": null,
            "order": null,
            "_view_module_version": "1.2.0",
            "grid_template_areas": null,
            "object_position": null,
            "object_fit": null,
            "grid_auto_columns": null,
            "margin": null,
            "display": null,
            "left": null
          }
        },
        "54da4effdae844919a103ad0427b51ef": {
          "model_module": "@jupyter-widgets/controls",
          "model_name": "HBoxModel",
          "state": {
            "_view_name": "HBoxView",
            "_dom_classes": [],
            "_model_name": "HBoxModel",
            "_view_module": "@jupyter-widgets/controls",
            "_model_module_version": "1.5.0",
            "_view_count": null,
            "_view_module_version": "1.5.0",
            "box_style": "",
            "layout": "IPY_MODEL_36e5c00469164fcb8d338ad3c03ec65a",
            "_model_module": "@jupyter-widgets/controls",
            "children": [
              "IPY_MODEL_05d1cbf0d01b4550980e551eaea5cf31",
              "IPY_MODEL_74399e5e57314c1cae51643eab4ced43"
            ]
          }
        },
        "36e5c00469164fcb8d338ad3c03ec65a": {
          "model_module": "@jupyter-widgets/base",
          "model_name": "LayoutModel",
          "state": {
            "_view_name": "LayoutView",
            "grid_template_rows": null,
            "right": null,
            "justify_content": null,
            "_view_module": "@jupyter-widgets/base",
            "overflow": null,
            "_model_module_version": "1.2.0",
            "_view_count": null,
            "flex_flow": null,
            "width": null,
            "min_width": null,
            "border": null,
            "align_items": null,
            "bottom": null,
            "_model_module": "@jupyter-widgets/base",
            "top": null,
            "grid_column": null,
            "overflow_y": null,
            "overflow_x": null,
            "grid_auto_flow": null,
            "grid_area": null,
            "grid_template_columns": null,
            "flex": null,
            "_model_name": "LayoutModel",
            "justify_items": null,
            "grid_row": null,
            "max_height": null,
            "align_content": null,
            "visibility": null,
            "align_self": null,
            "height": null,
            "min_height": null,
            "padding": null,
            "grid_auto_rows": null,
            "grid_gap": null,
            "max_width": null,
            "order": null,
            "_view_module_version": "1.2.0",
            "grid_template_areas": null,
            "object_position": null,
            "object_fit": null,
            "grid_auto_columns": null,
            "margin": null,
            "display": null,
            "left": null
          }
        },
        "05d1cbf0d01b4550980e551eaea5cf31": {
          "model_module": "@jupyter-widgets/controls",
          "model_name": "IntProgressModel",
          "state": {
            "_view_name": "ProgressView",
            "style": "IPY_MODEL_d21789cf845e47bda9d5c0e26929d274",
            "_dom_classes": [],
            "description": "no-mask_data: 100%",
            "_model_name": "IntProgressModel",
            "bar_style": "success",
            "max": 150,
            "_view_module": "@jupyter-widgets/controls",
            "_model_module_version": "1.5.0",
            "value": 150,
            "_view_count": null,
            "_view_module_version": "1.5.0",
            "orientation": "horizontal",
            "min": 0,
            "description_tooltip": null,
            "_model_module": "@jupyter-widgets/controls",
            "layout": "IPY_MODEL_b846f8fd51d94db7bee2c3b72462c317"
          }
        },
        "74399e5e57314c1cae51643eab4ced43": {
          "model_module": "@jupyter-widgets/controls",
          "model_name": "HTMLModel",
          "state": {
            "_view_name": "HTMLView",
            "style": "IPY_MODEL_78bdadbda58e4b23b2281bef130b57e6",
            "_dom_classes": [],
            "description": "",
            "_model_name": "HTMLModel",
            "placeholder": "​",
            "_view_module": "@jupyter-widgets/controls",
            "_model_module_version": "1.5.0",
            "value": " 150/150 [01:42&lt;00:00,  1.47it/s, file=/content/drive/My Drive/Dataset/no-mask_data/no-mask (93).jpg]",
            "_view_count": null,
            "_view_module_version": "1.5.0",
            "description_tooltip": null,
            "_model_module": "@jupyter-widgets/controls",
            "layout": "IPY_MODEL_333f1d945fca40db8e8e8daa6ce0ceca"
          }
        },
        "d21789cf845e47bda9d5c0e26929d274": {
          "model_module": "@jupyter-widgets/controls",
          "model_name": "ProgressStyleModel",
          "state": {
            "_view_name": "StyleView",
            "_model_name": "ProgressStyleModel",
            "description_width": "initial",
            "_view_module": "@jupyter-widgets/base",
            "_model_module_version": "1.5.0",
            "_view_count": null,
            "_view_module_version": "1.2.0",
            "bar_color": null,
            "_model_module": "@jupyter-widgets/controls"
          }
        },
        "b846f8fd51d94db7bee2c3b72462c317": {
          "model_module": "@jupyter-widgets/base",
          "model_name": "LayoutModel",
          "state": {
            "_view_name": "LayoutView",
            "grid_template_rows": null,
            "right": null,
            "justify_content": null,
            "_view_module": "@jupyter-widgets/base",
            "overflow": null,
            "_model_module_version": "1.2.0",
            "_view_count": null,
            "flex_flow": null,
            "width": null,
            "min_width": null,
            "border": null,
            "align_items": null,
            "bottom": null,
            "_model_module": "@jupyter-widgets/base",
            "top": null,
            "grid_column": null,
            "overflow_y": null,
            "overflow_x": null,
            "grid_auto_flow": null,
            "grid_area": null,
            "grid_template_columns": null,
            "flex": null,
            "_model_name": "LayoutModel",
            "justify_items": null,
            "grid_row": null,
            "max_height": null,
            "align_content": null,
            "visibility": null,
            "align_self": null,
            "height": null,
            "min_height": null,
            "padding": null,
            "grid_auto_rows": null,
            "grid_gap": null,
            "max_width": null,
            "order": null,
            "_view_module_version": "1.2.0",
            "grid_template_areas": null,
            "object_position": null,
            "object_fit": null,
            "grid_auto_columns": null,
            "margin": null,
            "display": null,
            "left": null
          }
        },
        "78bdadbda58e4b23b2281bef130b57e6": {
          "model_module": "@jupyter-widgets/controls",
          "model_name": "DescriptionStyleModel",
          "state": {
            "_view_name": "StyleView",
            "_model_name": "DescriptionStyleModel",
            "description_width": "",
            "_view_module": "@jupyter-widgets/base",
            "_model_module_version": "1.5.0",
            "_view_count": null,
            "_view_module_version": "1.2.0",
            "_model_module": "@jupyter-widgets/controls"
          }
        },
        "333f1d945fca40db8e8e8daa6ce0ceca": {
          "model_module": "@jupyter-widgets/base",
          "model_name": "LayoutModel",
          "state": {
            "_view_name": "LayoutView",
            "grid_template_rows": null,
            "right": null,
            "justify_content": null,
            "_view_module": "@jupyter-widgets/base",
            "overflow": null,
            "_model_module_version": "1.2.0",
            "_view_count": null,
            "flex_flow": null,
            "width": null,
            "min_width": null,
            "border": null,
            "align_items": null,
            "bottom": null,
            "_model_module": "@jupyter-widgets/base",
            "top": null,
            "grid_column": null,
            "overflow_y": null,
            "overflow_x": null,
            "grid_auto_flow": null,
            "grid_area": null,
            "grid_template_columns": null,
            "flex": null,
            "_model_name": "LayoutModel",
            "justify_items": null,
            "grid_row": null,
            "max_height": null,
            "align_content": null,
            "visibility": null,
            "align_self": null,
            "height": null,
            "min_height": null,
            "padding": null,
            "grid_auto_rows": null,
            "grid_gap": null,
            "max_width": null,
            "order": null,
            "_view_module_version": "1.2.0",
            "grid_template_areas": null,
            "object_position": null,
            "object_fit": null,
            "grid_auto_columns": null,
            "margin": null,
            "display": null,
            "left": null
          }
        },
        "1975e91151594bfea8c4e00f6376ab3f": {
          "model_module": "@jupyter-widgets/controls",
          "model_name": "HBoxModel",
          "state": {
            "_view_name": "HBoxView",
            "_dom_classes": [],
            "_model_name": "HBoxModel",
            "_view_module": "@jupyter-widgets/controls",
            "_model_module_version": "1.5.0",
            "_view_count": null,
            "_view_module_version": "1.5.0",
            "box_style": "",
            "layout": "IPY_MODEL_7d81814cb6834d14b440cb39ea04897b",
            "_model_module": "@jupyter-widgets/controls",
            "children": [
              "IPY_MODEL_e3ac2fe262974e0c816b4570699d8bcc",
              "IPY_MODEL_349d261ce6684d38875e37be10274796"
            ]
          }
        },
        "7d81814cb6834d14b440cb39ea04897b": {
          "model_module": "@jupyter-widgets/base",
          "model_name": "LayoutModel",
          "state": {
            "_view_name": "LayoutView",
            "grid_template_rows": null,
            "right": null,
            "justify_content": null,
            "_view_module": "@jupyter-widgets/base",
            "overflow": null,
            "_model_module_version": "1.2.0",
            "_view_count": null,
            "flex_flow": null,
            "width": null,
            "min_width": null,
            "border": null,
            "align_items": null,
            "bottom": null,
            "_model_module": "@jupyter-widgets/base",
            "top": null,
            "grid_column": null,
            "overflow_y": null,
            "overflow_x": null,
            "grid_auto_flow": null,
            "grid_area": null,
            "grid_template_columns": null,
            "flex": null,
            "_model_name": "LayoutModel",
            "justify_items": null,
            "grid_row": null,
            "max_height": null,
            "align_content": null,
            "visibility": null,
            "align_self": null,
            "height": null,
            "min_height": null,
            "padding": null,
            "grid_auto_rows": null,
            "grid_gap": null,
            "max_width": null,
            "order": null,
            "_view_module_version": "1.2.0",
            "grid_template_areas": null,
            "object_position": null,
            "object_fit": null,
            "grid_auto_columns": null,
            "margin": null,
            "display": null,
            "left": null
          }
        },
        "e3ac2fe262974e0c816b4570699d8bcc": {
          "model_module": "@jupyter-widgets/controls",
          "model_name": "IntProgressModel",
          "state": {
            "_view_name": "ProgressView",
            "style": "IPY_MODEL_f8bc5e271e28491eae1a6da40e9bca7a",
            "_dom_classes": [],
            "description": "",
            "_model_name": "IntProgressModel",
            "bar_style": "success",
            "max": 1,
            "_view_module": "@jupyter-widgets/controls",
            "_model_module_version": "1.5.0",
            "value": 0,
            "_view_count": null,
            "_view_module_version": "1.5.0",
            "orientation": "horizontal",
            "min": 0,
            "description_tooltip": null,
            "_model_module": "@jupyter-widgets/controls",
            "layout": "IPY_MODEL_a298f66fd31344eaa75f08a4c3bc1e6d"
          }
        },
        "349d261ce6684d38875e37be10274796": {
          "model_module": "@jupyter-widgets/controls",
          "model_name": "HTMLModel",
          "state": {
            "_view_name": "HTMLView",
            "style": "IPY_MODEL_961ac604ac824dfc980f2e56d2d014c0",
            "_dom_classes": [],
            "description": "",
            "_model_name": "HTMLModel",
            "placeholder": "​",
            "_view_module": "@jupyter-widgets/controls",
            "_model_module_version": "1.5.0",
            "value": " 0/0 [00:00&lt;?, ?it/s]",
            "_view_count": null,
            "_view_module_version": "1.5.0",
            "description_tooltip": null,
            "_model_module": "@jupyter-widgets/controls",
            "layout": "IPY_MODEL_5abeaae8079a43d49933e4522f534442"
          }
        },
        "f8bc5e271e28491eae1a6da40e9bca7a": {
          "model_module": "@jupyter-widgets/controls",
          "model_name": "ProgressStyleModel",
          "state": {
            "_view_name": "StyleView",
            "_model_name": "ProgressStyleModel",
            "description_width": "initial",
            "_view_module": "@jupyter-widgets/base",
            "_model_module_version": "1.5.0",
            "_view_count": null,
            "_view_module_version": "1.2.0",
            "bar_color": null,
            "_model_module": "@jupyter-widgets/controls"
          }
        },
        "a298f66fd31344eaa75f08a4c3bc1e6d": {
          "model_module": "@jupyter-widgets/base",
          "model_name": "LayoutModel",
          "state": {
            "_view_name": "LayoutView",
            "grid_template_rows": null,
            "right": null,
            "justify_content": null,
            "_view_module": "@jupyter-widgets/base",
            "overflow": null,
            "_model_module_version": "1.2.0",
            "_view_count": null,
            "flex_flow": null,
            "width": null,
            "min_width": null,
            "border": null,
            "align_items": null,
            "bottom": null,
            "_model_module": "@jupyter-widgets/base",
            "top": null,
            "grid_column": null,
            "overflow_y": null,
            "overflow_x": null,
            "grid_auto_flow": null,
            "grid_area": null,
            "grid_template_columns": null,
            "flex": null,
            "_model_name": "LayoutModel",
            "justify_items": null,
            "grid_row": null,
            "max_height": null,
            "align_content": null,
            "visibility": null,
            "align_self": null,
            "height": null,
            "min_height": null,
            "padding": null,
            "grid_auto_rows": null,
            "grid_gap": null,
            "max_width": null,
            "order": null,
            "_view_module_version": "1.2.0",
            "grid_template_areas": null,
            "object_position": null,
            "object_fit": null,
            "grid_auto_columns": null,
            "margin": null,
            "display": null,
            "left": null
          }
        },
        "961ac604ac824dfc980f2e56d2d014c0": {
          "model_module": "@jupyter-widgets/controls",
          "model_name": "DescriptionStyleModel",
          "state": {
            "_view_name": "StyleView",
            "_model_name": "DescriptionStyleModel",
            "description_width": "",
            "_view_module": "@jupyter-widgets/base",
            "_model_module_version": "1.5.0",
            "_view_count": null,
            "_view_module_version": "1.2.0",
            "_model_module": "@jupyter-widgets/controls"
          }
        },
        "5abeaae8079a43d49933e4522f534442": {
          "model_module": "@jupyter-widgets/base",
          "model_name": "LayoutModel",
          "state": {
            "_view_name": "LayoutView",
            "grid_template_rows": null,
            "right": null,
            "justify_content": null,
            "_view_module": "@jupyter-widgets/base",
            "overflow": null,
            "_model_module_version": "1.2.0",
            "_view_count": null,
            "flex_flow": null,
            "width": null,
            "min_width": null,
            "border": null,
            "align_items": null,
            "bottom": null,
            "_model_module": "@jupyter-widgets/base",
            "top": null,
            "grid_column": null,
            "overflow_y": null,
            "overflow_x": null,
            "grid_auto_flow": null,
            "grid_area": null,
            "grid_template_columns": null,
            "flex": null,
            "_model_name": "LayoutModel",
            "justify_items": null,
            "grid_row": null,
            "max_height": null,
            "align_content": null,
            "visibility": null,
            "align_self": null,
            "height": null,
            "min_height": null,
            "padding": null,
            "grid_auto_rows": null,
            "grid_gap": null,
            "max_width": null,
            "order": null,
            "_view_module_version": "1.2.0",
            "grid_template_areas": null,
            "object_position": null,
            "object_fit": null,
            "grid_auto_columns": null,
            "margin": null,
            "display": null,
            "left": null
          }
        },
        "35b0976bd7904c70945b6d7b23f47bf5": {
          "model_module": "@jupyter-widgets/controls",
          "model_name": "HBoxModel",
          "state": {
            "_view_name": "HBoxView",
            "_dom_classes": [],
            "_model_name": "HBoxModel",
            "_view_module": "@jupyter-widgets/controls",
            "_model_module_version": "1.5.0",
            "_view_count": null,
            "_view_module_version": "1.5.0",
            "box_style": "",
            "layout": "IPY_MODEL_699cbd5c39ec4b3d89ef423738186c81",
            "_model_module": "@jupyter-widgets/controls",
            "children": [
              "IPY_MODEL_14c96c6f91fa48ee9f58b8dacad879ea",
              "IPY_MODEL_ab6f7fa6e51942b1b5f4a041749eae40"
            ]
          }
        },
        "699cbd5c39ec4b3d89ef423738186c81": {
          "model_module": "@jupyter-widgets/base",
          "model_name": "LayoutModel",
          "state": {
            "_view_name": "LayoutView",
            "grid_template_rows": null,
            "right": null,
            "justify_content": null,
            "_view_module": "@jupyter-widgets/base",
            "overflow": null,
            "_model_module_version": "1.2.0",
            "_view_count": null,
            "flex_flow": null,
            "width": null,
            "min_width": null,
            "border": null,
            "align_items": null,
            "bottom": null,
            "_model_module": "@jupyter-widgets/base",
            "top": null,
            "grid_column": null,
            "overflow_y": null,
            "overflow_x": null,
            "grid_auto_flow": null,
            "grid_area": null,
            "grid_template_columns": null,
            "flex": null,
            "_model_name": "LayoutModel",
            "justify_items": null,
            "grid_row": null,
            "max_height": null,
            "align_content": null,
            "visibility": null,
            "align_self": null,
            "height": null,
            "min_height": null,
            "padding": null,
            "grid_auto_rows": null,
            "grid_gap": null,
            "max_width": null,
            "order": null,
            "_view_module_version": "1.2.0",
            "grid_template_areas": null,
            "object_position": null,
            "object_fit": null,
            "grid_auto_columns": null,
            "margin": null,
            "display": null,
            "left": null
          }
        },
        "14c96c6f91fa48ee9f58b8dacad879ea": {
          "model_module": "@jupyter-widgets/controls",
          "model_name": "IntProgressModel",
          "state": {
            "_view_name": "ProgressView",
            "style": "IPY_MODEL_3d95c12a3cab49f0bc826728d7e6e1b4",
            "_dom_classes": [],
            "description": "",
            "_model_name": "IntProgressModel",
            "bar_style": "success",
            "max": 1,
            "_view_module": "@jupyter-widgets/controls",
            "_model_module_version": "1.5.0",
            "value": 0,
            "_view_count": null,
            "_view_module_version": "1.5.0",
            "orientation": "horizontal",
            "min": 0,
            "description_tooltip": null,
            "_model_module": "@jupyter-widgets/controls",
            "layout": "IPY_MODEL_9c03b6d4cecf431db2645ba74882428e"
          }
        },
        "ab6f7fa6e51942b1b5f4a041749eae40": {
          "model_module": "@jupyter-widgets/controls",
          "model_name": "HTMLModel",
          "state": {
            "_view_name": "HTMLView",
            "style": "IPY_MODEL_d593c6090f27459fae99d1673268d411",
            "_dom_classes": [],
            "description": "",
            "_model_name": "HTMLModel",
            "placeholder": "​",
            "_view_module": "@jupyter-widgets/controls",
            "_model_module_version": "1.5.0",
            "value": " 0/0 [00:00&lt;?, ?it/s]",
            "_view_count": null,
            "_view_module_version": "1.5.0",
            "description_tooltip": null,
            "_model_module": "@jupyter-widgets/controls",
            "layout": "IPY_MODEL_e2e3d0d14d7b4daeb8ac046820bd64d3"
          }
        },
        "3d95c12a3cab49f0bc826728d7e6e1b4": {
          "model_module": "@jupyter-widgets/controls",
          "model_name": "ProgressStyleModel",
          "state": {
            "_view_name": "StyleView",
            "_model_name": "ProgressStyleModel",
            "description_width": "initial",
            "_view_module": "@jupyter-widgets/base",
            "_model_module_version": "1.5.0",
            "_view_count": null,
            "_view_module_version": "1.2.0",
            "bar_color": null,
            "_model_module": "@jupyter-widgets/controls"
          }
        },
        "9c03b6d4cecf431db2645ba74882428e": {
          "model_module": "@jupyter-widgets/base",
          "model_name": "LayoutModel",
          "state": {
            "_view_name": "LayoutView",
            "grid_template_rows": null,
            "right": null,
            "justify_content": null,
            "_view_module": "@jupyter-widgets/base",
            "overflow": null,
            "_model_module_version": "1.2.0",
            "_view_count": null,
            "flex_flow": null,
            "width": null,
            "min_width": null,
            "border": null,
            "align_items": null,
            "bottom": null,
            "_model_module": "@jupyter-widgets/base",
            "top": null,
            "grid_column": null,
            "overflow_y": null,
            "overflow_x": null,
            "grid_auto_flow": null,
            "grid_area": null,
            "grid_template_columns": null,
            "flex": null,
            "_model_name": "LayoutModel",
            "justify_items": null,
            "grid_row": null,
            "max_height": null,
            "align_content": null,
            "visibility": null,
            "align_self": null,
            "height": null,
            "min_height": null,
            "padding": null,
            "grid_auto_rows": null,
            "grid_gap": null,
            "max_width": null,
            "order": null,
            "_view_module_version": "1.2.0",
            "grid_template_areas": null,
            "object_position": null,
            "object_fit": null,
            "grid_auto_columns": null,
            "margin": null,
            "display": null,
            "left": null
          }
        },
        "d593c6090f27459fae99d1673268d411": {
          "model_module": "@jupyter-widgets/controls",
          "model_name": "DescriptionStyleModel",
          "state": {
            "_view_name": "StyleView",
            "_model_name": "DescriptionStyleModel",
            "description_width": "",
            "_view_module": "@jupyter-widgets/base",
            "_model_module_version": "1.5.0",
            "_view_count": null,
            "_view_module_version": "1.2.0",
            "_model_module": "@jupyter-widgets/controls"
          }
        },
        "e2e3d0d14d7b4daeb8ac046820bd64d3": {
          "model_module": "@jupyter-widgets/base",
          "model_name": "LayoutModel",
          "state": {
            "_view_name": "LayoutView",
            "grid_template_rows": null,
            "right": null,
            "justify_content": null,
            "_view_module": "@jupyter-widgets/base",
            "overflow": null,
            "_model_module_version": "1.2.0",
            "_view_count": null,
            "flex_flow": null,
            "width": null,
            "min_width": null,
            "border": null,
            "align_items": null,
            "bottom": null,
            "_model_module": "@jupyter-widgets/base",
            "top": null,
            "grid_column": null,
            "overflow_y": null,
            "overflow_x": null,
            "grid_auto_flow": null,
            "grid_area": null,
            "grid_template_columns": null,
            "flex": null,
            "_model_name": "LayoutModel",
            "justify_items": null,
            "grid_row": null,
            "max_height": null,
            "align_content": null,
            "visibility": null,
            "align_self": null,
            "height": null,
            "min_height": null,
            "padding": null,
            "grid_auto_rows": null,
            "grid_gap": null,
            "max_width": null,
            "order": null,
            "_view_module_version": "1.2.0",
            "grid_template_areas": null,
            "object_position": null,
            "object_fit": null,
            "grid_auto_columns": null,
            "margin": null,
            "display": null,
            "left": null
          }
        }
      }
    }
  },
  "cells": [
    {
      "cell_type": "code",
      "metadata": {
        "id": "G1MCUnAR7dPb",
        "colab_type": "code",
        "colab": {}
      },
      "source": [
        "import warnings\n",
        "warnings.filterwarnings('ignore')"
      ],
      "execution_count": 0,
      "outputs": []
    },
    {
      "cell_type": "code",
      "metadata": {
        "id": "lA-iwYxc7hG3",
        "colab_type": "code",
        "colab": {}
      },
      "source": [
        "classes_dict = {\"no-mask_data\":0,\n",
        "                \"mask_data\":1}\n",
        "classes = [\"no-mask\", \"mask\"]\n",
        "img_width, img_height = 128, 128"
      ],
      "execution_count": 0,
      "outputs": []
    },
    {
      "cell_type": "code",
      "metadata": {
        "id": "i1RkLdV27j4h",
        "colab_type": "code",
        "colab": {
          "base_uri": "https://localhost:8080/",
          "height": 213,
          "referenced_widgets": [
            "41d2b53555a349aabd086a255010d53c",
            "52e886ee895c43359175c82bde6e882e",
            "1bc27bae041c4910ab5ee71b9a695487",
            "d25eb852cfd54af28f7b25562450e72e",
            "7a444a50d5104dbaa45b6d4cdc89fcd9",
            "a21b18dadfc943d4840e434c03fbaaf7",
            "7aee961bda554201a487f55997a407d2",
            "78add5c7948842fe8c0b622167fcab94",
            "54da4effdae844919a103ad0427b51ef",
            "36e5c00469164fcb8d338ad3c03ec65a",
            "05d1cbf0d01b4550980e551eaea5cf31",
            "74399e5e57314c1cae51643eab4ced43",
            "d21789cf845e47bda9d5c0e26929d274",
            "b846f8fd51d94db7bee2c3b72462c317",
            "78bdadbda58e4b23b2281bef130b57e6",
            "333f1d945fca40db8e8e8daa6ce0ceca",
            "1975e91151594bfea8c4e00f6376ab3f",
            "7d81814cb6834d14b440cb39ea04897b",
            "e3ac2fe262974e0c816b4570699d8bcc",
            "349d261ce6684d38875e37be10274796",
            "f8bc5e271e28491eae1a6da40e9bca7a",
            "a298f66fd31344eaa75f08a4c3bc1e6d",
            "961ac604ac824dfc980f2e56d2d014c0",
            "5abeaae8079a43d49933e4522f534442",
            "35b0976bd7904c70945b6d7b23f47bf5",
            "699cbd5c39ec4b3d89ef423738186c81",
            "14c96c6f91fa48ee9f58b8dacad879ea",
            "ab6f7fa6e51942b1b5f4a041749eae40",
            "3d95c12a3cab49f0bc826728d7e6e1b4",
            "9c03b6d4cecf431db2645ba74882428e",
            "d593c6090f27459fae99d1673268d411",
            "e2e3d0d14d7b4daeb8ac046820bd64d3"
          ]
        },
        "outputId": "a7af2ead-c98a-4130-ace6-7f6b4b62d7d9"
      },
      "source": [
        "import os\n",
        "from os.path import join\n",
        "import numpy as np\n",
        "from PIL import Image\n",
        "from tqdm.notebook import tqdm\n",
        "from collections import OrderedDict\n",
        "\n",
        "dataset_path = \"/content/drive/My Drive/Dataset\"\n",
        "img_list = []\n",
        "label_list = []\n",
        "\n",
        "for class_name in os.listdir(dataset_path):\n",
        "  dir = join(dataset_path, class_name)\n",
        "  with tqdm(os.listdir(dir)) as pbar:\n",
        "    for i, file in enumerate(pbar):\n",
        "      pbar.set_description(class_name)\n",
        "      img_path = join(dir, file)\n",
        "      img = Image.open(img_path)\n",
        "      img = img.resize((img_width, img_height))\n",
        "      img = np.array(img)\n",
        "      img_list.append(img)\n",
        "      label_list.append(classes_dict[class_name])\n",
        "      pbar.set_postfix(OrderedDict(file=img_path))"
      ],
      "execution_count": 3,
      "outputs": [
        {
          "output_type": "display_data",
          "data": {
            "application/vnd.jupyter.widget-view+json": {
              "model_id": "41d2b53555a349aabd086a255010d53c",
              "version_minor": 0,
              "version_major": 2
            },
            "text/plain": [
              "HBox(children=(IntProgress(value=0, max=150), HTML(value='')))"
            ]
          },
          "metadata": {
            "tags": []
          }
        },
        {
          "output_type": "stream",
          "text": [
            "\n"
          ],
          "name": "stdout"
        },
        {
          "output_type": "display_data",
          "data": {
            "application/vnd.jupyter.widget-view+json": {
              "model_id": "54da4effdae844919a103ad0427b51ef",
              "version_minor": 0,
              "version_major": 2
            },
            "text/plain": [
              "HBox(children=(IntProgress(value=0, max=150), HTML(value='')))"
            ]
          },
          "metadata": {
            "tags": []
          }
        },
        {
          "output_type": "stream",
          "text": [
            "\n"
          ],
          "name": "stdout"
        },
        {
          "output_type": "display_data",
          "data": {
            "application/vnd.jupyter.widget-view+json": {
              "model_id": "1975e91151594bfea8c4e00f6376ab3f",
              "version_minor": 0,
              "version_major": 2
            },
            "text/plain": [
              "HBox(children=(IntProgress(value=1, bar_style='info', max=1), HTML(value='')))"
            ]
          },
          "metadata": {
            "tags": []
          }
        },
        {
          "output_type": "stream",
          "text": [
            "\n"
          ],
          "name": "stdout"
        },
        {
          "output_type": "display_data",
          "data": {
            "application/vnd.jupyter.widget-view+json": {
              "model_id": "35b0976bd7904c70945b6d7b23f47bf5",
              "version_minor": 0,
              "version_major": 2
            },
            "text/plain": [
              "HBox(children=(IntProgress(value=1, bar_style='info', max=1), HTML(value='')))"
            ]
          },
          "metadata": {
            "tags": []
          }
        },
        {
          "output_type": "stream",
          "text": [
            "\n"
          ],
          "name": "stdout"
        }
      ]
    },
    {
      "cell_type": "code",
      "metadata": {
        "id": "_afWooQ87nNy",
        "colab_type": "code",
        "colab": {}
      },
      "source": [
        "from matplotlib import pyplot as plt\n",
        "\n",
        "def show_sample(X, y, index):\n",
        "  plt.imshow(X[index])\n",
        "  print(\"label : \",end=\"\")\n",
        "  print(classes[y[index]])\n"
      ],
      "execution_count": 0,
      "outputs": []
    },
    {
      "cell_type": "code",
      "metadata": {
        "id": "vYBBw8D78oHM",
        "colab_type": "code",
        "colab": {
          "base_uri": "https://localhost:8080/",
          "height": 80
        },
        "outputId": "088fb46e-0a49-4429-bf33-665e72a0fc34"
      },
      "source": [
        "import tensorflow as tf\n",
        "from keras.utils.np_utils import to_categorical\n",
        "\n",
        "#Xをnp.ndarrayに,yをOne-Hotエンコーディングに変換する\n",
        "X = np.array(img_list, dtype=\"float32\")\n",
        "y = to_categorical(label_list, dtype=\"int\")\n",
        "\n",
        "#正規化(値を0~1に変換)\n",
        "X -= X.min()\n",
        "X /= X.max()"
      ],
      "execution_count": 6,
      "outputs": [
        {
          "output_type": "display_data",
          "data": {
            "text/html": [
              "<p style=\"color: red;\">\n",
              "The default version of TensorFlow in Colab will switch to TensorFlow 2.x on the 27th of March, 2020.<br>\n",
              "We recommend you <a href=\"https://www.tensorflow.org/guide/migrate\" target=\"_blank\">upgrade</a> now\n",
              "or ensure your notebook will continue to use TensorFlow 1.x via the <code>%tensorflow_version 1.x</code> magic:\n",
              "<a href=\"https://colab.research.google.com/notebooks/tensorflow_version.ipynb\" target=\"_blank\">more info</a>.</p>\n"
            ],
            "text/plain": [
              "<IPython.core.display.HTML object>"
            ]
          },
          "metadata": {
            "tags": []
          }
        },
        {
          "output_type": "stream",
          "text": [
            "Using TensorFlow backend.\n"
          ],
          "name": "stderr"
        }
      ]
    },
    {
      "cell_type": "code",
      "metadata": {
        "id": "JyYgumNB8rDO",
        "colab_type": "code",
        "colab": {}
      },
      "source": [
        "#ホールドアウト法によりデータを分割(2割を検証用データとする)\n",
        "from sklearn.model_selection import train_test_split\n",
        "\n",
        "X_train, X_test, y_train, y_test = train_test_split(X, y, test_size=0.2, random_state=0)"
      ],
      "execution_count": 0,
      "outputs": []
    },
    {
      "cell_type": "code",
      "metadata": {
        "id": "4fPqfYy_8u3R",
        "colab_type": "code",
        "colab": {}
      },
      "source": [
        "import cv2\n",
        "from keras.applications.vgg16 import VGG16\n",
        "from keras.models import Model, load_model, Sequential\n",
        "from keras.layers import Input, Activation, Dense, Flatten, Dropout\n",
        "from keras import optimizers\n"
      ],
      "execution_count": 0,
      "outputs": []
    },
    {
      "cell_type": "code",
      "metadata": {
        "id": "4T18wpou8y_O",
        "colab_type": "code",
        "colab": {
          "base_uri": "https://localhost:8080/",
          "height": 34
        },
        "outputId": "7a89bd84-e48e-4be7-b484-393e7fa5e1de"
      },
      "source": [
        "tf.test.gpu_device_name()"
      ],
      "execution_count": 9,
      "outputs": [
        {
          "output_type": "execute_result",
          "data": {
            "text/plain": [
              "'/device:GPU:0'"
            ]
          },
          "metadata": {
            "tags": []
          },
          "execution_count": 9
        }
      ]
    },
    {
      "cell_type": "code",
      "metadata": {
        "id": "JTtE3CMV8z8L",
        "colab_type": "code",
        "colab": {
          "base_uri": "https://localhost:8080/",
          "height": 564
        },
        "outputId": "47662284-fe21-46d8-a1a2-c3a8270be3d0"
      },
      "source": [
        "input_tensor = Input(shape=(img_width, img_height, 3))\n",
        "vgg16 = VGG16(include_top=False, weights='imagenet', input_tensor=input_tensor)\n",
        "\n",
        "top_model = Sequential()\n",
        "top_model.add(Flatten(input_shape=vgg16.output_shape[1:]))\n",
        "top_model.add(Dense(256, activation='relu'))\n",
        "top_model.add(Dropout(0.5))\n",
        "top_model.add(Dense(len(classes), activation='softmax'))\n",
        "\n",
        "vgg_model = Model(input=vgg16.input, output=top_model(vgg16.output))\n",
        "\n",
        "for layer in vgg_model.layers[:15]:\n",
        "    layer.trainable = False\n",
        "\n",
        "# 多クラス分類を指定\n",
        "vgg_model.compile(loss='categorical_crossentropy',\n",
        "          optimizer=optimizers.SGD(lr=1e-3, momentum=0.9),\n",
        "          metrics=['accuracy'])"
      ],
      "execution_count": 10,
      "outputs": [
        {
          "output_type": "stream",
          "text": [
            "WARNING:tensorflow:From /usr/local/lib/python3.6/dist-packages/keras/backend/tensorflow_backend.py:66: The name tf.get_default_graph is deprecated. Please use tf.compat.v1.get_default_graph instead.\n",
            "\n",
            "WARNING:tensorflow:From /usr/local/lib/python3.6/dist-packages/keras/backend/tensorflow_backend.py:541: The name tf.placeholder is deprecated. Please use tf.compat.v1.placeholder instead.\n",
            "\n",
            "WARNING:tensorflow:From /usr/local/lib/python3.6/dist-packages/keras/backend/tensorflow_backend.py:4432: The name tf.random_uniform is deprecated. Please use tf.random.uniform instead.\n",
            "\n",
            "WARNING:tensorflow:From /usr/local/lib/python3.6/dist-packages/keras/backend/tensorflow_backend.py:4267: The name tf.nn.max_pool is deprecated. Please use tf.nn.max_pool2d instead.\n",
            "\n",
            "Downloading data from https://github.com/fchollet/deep-learning-models/releases/download/v0.1/vgg16_weights_tf_dim_ordering_tf_kernels_notop.h5\n",
            "58892288/58889256 [==============================] - 3s 0us/step\n",
            "WARNING:tensorflow:From /usr/local/lib/python3.6/dist-packages/keras/backend/tensorflow_backend.py:190: The name tf.get_default_session is deprecated. Please use tf.compat.v1.get_default_session instead.\n",
            "\n",
            "WARNING:tensorflow:From /usr/local/lib/python3.6/dist-packages/keras/backend/tensorflow_backend.py:197: The name tf.ConfigProto is deprecated. Please use tf.compat.v1.ConfigProto instead.\n",
            "\n",
            "WARNING:tensorflow:From /usr/local/lib/python3.6/dist-packages/keras/backend/tensorflow_backend.py:203: The name tf.Session is deprecated. Please use tf.compat.v1.Session instead.\n",
            "\n",
            "WARNING:tensorflow:From /usr/local/lib/python3.6/dist-packages/keras/backend/tensorflow_backend.py:207: The name tf.global_variables is deprecated. Please use tf.compat.v1.global_variables instead.\n",
            "\n",
            "WARNING:tensorflow:From /usr/local/lib/python3.6/dist-packages/keras/backend/tensorflow_backend.py:216: The name tf.is_variable_initialized is deprecated. Please use tf.compat.v1.is_variable_initialized instead.\n",
            "\n",
            "WARNING:tensorflow:From /usr/local/lib/python3.6/dist-packages/keras/backend/tensorflow_backend.py:223: The name tf.variables_initializer is deprecated. Please use tf.compat.v1.variables_initializer instead.\n",
            "\n",
            "WARNING:tensorflow:From /usr/local/lib/python3.6/dist-packages/keras/backend/tensorflow_backend.py:148: The name tf.placeholder_with_default is deprecated. Please use tf.compat.v1.placeholder_with_default instead.\n",
            "\n",
            "WARNING:tensorflow:From /usr/local/lib/python3.6/dist-packages/keras/backend/tensorflow_backend.py:3733: calling dropout (from tensorflow.python.ops.nn_ops) with keep_prob is deprecated and will be removed in a future version.\n",
            "Instructions for updating:\n",
            "Please use `rate` instead of `keep_prob`. Rate should be set to `rate = 1 - keep_prob`.\n",
            "WARNING:tensorflow:From /usr/local/lib/python3.6/dist-packages/keras/optimizers.py:793: The name tf.train.Optimizer is deprecated. Please use tf.compat.v1.train.Optimizer instead.\n",
            "\n",
            "WARNING:tensorflow:From /usr/local/lib/python3.6/dist-packages/keras/backend/tensorflow_backend.py:3576: The name tf.log is deprecated. Please use tf.math.log instead.\n",
            "\n"
          ],
          "name": "stdout"
        }
      ]
    },
    {
      "cell_type": "code",
      "metadata": {
        "id": "gJa8J91T84q9",
        "colab_type": "code",
        "colab": {
          "base_uri": "https://localhost:8080/",
          "height": 833
        },
        "outputId": "8ee7f690-b664-4c8d-a17b-61544fdd7a22"
      },
      "source": [
        "vgg_model.summary()"
      ],
      "execution_count": 11,
      "outputs": [
        {
          "output_type": "stream",
          "text": [
            "Model: \"model_1\"\n",
            "_________________________________________________________________\n",
            "Layer (type)                 Output Shape              Param #   \n",
            "=================================================================\n",
            "input_1 (InputLayer)         (None, 128, 128, 3)       0         \n",
            "_________________________________________________________________\n",
            "block1_conv1 (Conv2D)        (None, 128, 128, 64)      1792      \n",
            "_________________________________________________________________\n",
            "block1_conv2 (Conv2D)        (None, 128, 128, 64)      36928     \n",
            "_________________________________________________________________\n",
            "block1_pool (MaxPooling2D)   (None, 64, 64, 64)        0         \n",
            "_________________________________________________________________\n",
            "block2_conv1 (Conv2D)        (None, 64, 64, 128)       73856     \n",
            "_________________________________________________________________\n",
            "block2_conv2 (Conv2D)        (None, 64, 64, 128)       147584    \n",
            "_________________________________________________________________\n",
            "block2_pool (MaxPooling2D)   (None, 32, 32, 128)       0         \n",
            "_________________________________________________________________\n",
            "block3_conv1 (Conv2D)        (None, 32, 32, 256)       295168    \n",
            "_________________________________________________________________\n",
            "block3_conv2 (Conv2D)        (None, 32, 32, 256)       590080    \n",
            "_________________________________________________________________\n",
            "block3_conv3 (Conv2D)        (None, 32, 32, 256)       590080    \n",
            "_________________________________________________________________\n",
            "block3_pool (MaxPooling2D)   (None, 16, 16, 256)       0         \n",
            "_________________________________________________________________\n",
            "block4_conv1 (Conv2D)        (None, 16, 16, 512)       1180160   \n",
            "_________________________________________________________________\n",
            "block4_conv2 (Conv2D)        (None, 16, 16, 512)       2359808   \n",
            "_________________________________________________________________\n",
            "block4_conv3 (Conv2D)        (None, 16, 16, 512)       2359808   \n",
            "_________________________________________________________________\n",
            "block4_pool (MaxPooling2D)   (None, 8, 8, 512)         0         \n",
            "_________________________________________________________________\n",
            "block5_conv1 (Conv2D)        (None, 8, 8, 512)         2359808   \n",
            "_________________________________________________________________\n",
            "block5_conv2 (Conv2D)        (None, 8, 8, 512)         2359808   \n",
            "_________________________________________________________________\n",
            "block5_conv3 (Conv2D)        (None, 8, 8, 512)         2359808   \n",
            "_________________________________________________________________\n",
            "block5_pool (MaxPooling2D)   (None, 4, 4, 512)         0         \n",
            "_________________________________________________________________\n",
            "sequential_1 (Sequential)    (None, 2)                 2097922   \n",
            "=================================================================\n",
            "Total params: 16,812,610\n",
            "Trainable params: 9,177,346\n",
            "Non-trainable params: 7,635,264\n",
            "_________________________________________________________________\n"
          ],
          "name": "stdout"
        }
      ]
    },
    {
      "cell_type": "code",
      "metadata": {
        "id": "d3OTft2B89sU",
        "colab_type": "code",
        "colab": {}
      },
      "source": [
        "from keras.callbacks import EarlyStopping\n",
        "batch_size = 32\n",
        "n_epoch = 50\n",
        "early_stopping = EarlyStopping(patience=20, verbose=0)"
      ],
      "execution_count": 0,
      "outputs": []
    },
    {
      "cell_type": "code",
      "metadata": {
        "id": "EK8L0Qum87Q-",
        "colab_type": "code",
        "colab": {
          "base_uri": "https://localhost:8080/",
          "height": 1000
        },
        "outputId": "40fdeadc-08eb-4509-f4d3-3f6a0a6c68d8"
      },
      "source": [
        "\n",
        "hist = vgg_model.fit(X_train,\n",
        "                     y_train,\n",
        "                     batch_size=batch_size,\n",
        "                     epochs=n_epoch,\n",
        "                     validation_data=(X_test, y_test)\n",
        "                     )"
      ],
      "execution_count": 13,
      "outputs": [
        {
          "output_type": "stream",
          "text": [
            "WARNING:tensorflow:From /tensorflow-1.15.0/python3.6/tensorflow_core/python/ops/math_grad.py:1424: where (from tensorflow.python.ops.array_ops) is deprecated and will be removed in a future version.\n",
            "Instructions for updating:\n",
            "Use tf.where in 2.0, which has the same broadcast rule as np.where\n",
            "WARNING:tensorflow:From /usr/local/lib/python3.6/dist-packages/keras/backend/tensorflow_backend.py:1033: The name tf.assign_add is deprecated. Please use tf.compat.v1.assign_add instead.\n",
            "\n",
            "WARNING:tensorflow:From /usr/local/lib/python3.6/dist-packages/keras/backend/tensorflow_backend.py:1020: The name tf.assign is deprecated. Please use tf.compat.v1.assign instead.\n",
            "\n",
            "Train on 240 samples, validate on 60 samples\n",
            "Epoch 1/50\n",
            "240/240 [==============================] - 10s 40ms/step - loss: 0.6179 - acc: 0.6875 - val_loss: 0.1923 - val_acc: 0.9500\n",
            "Epoch 2/50\n",
            "240/240 [==============================] - 1s 3ms/step - loss: 0.1379 - acc: 0.9500 - val_loss: 0.0558 - val_acc: 0.9667\n",
            "Epoch 3/50\n",
            "240/240 [==============================] - 1s 3ms/step - loss: 0.0680 - acc: 0.9750 - val_loss: 0.0051 - val_acc: 1.0000\n",
            "Epoch 4/50\n",
            "240/240 [==============================] - 1s 3ms/step - loss: 0.0356 - acc: 0.9875 - val_loss: 0.0442 - val_acc: 0.9833\n",
            "Epoch 5/50\n",
            "240/240 [==============================] - 1s 3ms/step - loss: 0.0084 - acc: 0.9958 - val_loss: 0.0022 - val_acc: 1.0000\n",
            "Epoch 6/50\n",
            "240/240 [==============================] - 1s 3ms/step - loss: 0.0053 - acc: 0.9958 - val_loss: 0.0216 - val_acc: 0.9833\n",
            "Epoch 7/50\n",
            "240/240 [==============================] - 1s 3ms/step - loss: 0.0018 - acc: 1.0000 - val_loss: 0.0388 - val_acc: 0.9833\n",
            "Epoch 8/50\n",
            "240/240 [==============================] - 1s 3ms/step - loss: 0.0010 - acc: 1.0000 - val_loss: 0.0364 - val_acc: 0.9833\n",
            "Epoch 9/50\n",
            "240/240 [==============================] - 1s 3ms/step - loss: 6.4975e-04 - acc: 1.0000 - val_loss: 0.0294 - val_acc: 0.9833\n",
            "Epoch 10/50\n",
            "240/240 [==============================] - 1s 3ms/step - loss: 8.3957e-04 - acc: 1.0000 - val_loss: 0.0216 - val_acc: 0.9833\n",
            "Epoch 11/50\n",
            "240/240 [==============================] - 1s 3ms/step - loss: 4.9550e-04 - acc: 1.0000 - val_loss: 0.0152 - val_acc: 0.9833\n",
            "Epoch 12/50\n",
            "240/240 [==============================] - 1s 3ms/step - loss: 6.6334e-04 - acc: 1.0000 - val_loss: 0.0152 - val_acc: 0.9833\n",
            "Epoch 13/50\n",
            "240/240 [==============================] - 1s 3ms/step - loss: 8.3633e-04 - acc: 1.0000 - val_loss: 0.0177 - val_acc: 0.9833\n",
            "Epoch 14/50\n",
            "240/240 [==============================] - 1s 3ms/step - loss: 4.7271e-04 - acc: 1.0000 - val_loss: 0.0182 - val_acc: 0.9833\n",
            "Epoch 15/50\n",
            "240/240 [==============================] - 1s 3ms/step - loss: 5.0424e-04 - acc: 1.0000 - val_loss: 0.0214 - val_acc: 0.9833\n",
            "Epoch 16/50\n",
            "240/240 [==============================] - 1s 3ms/step - loss: 3.7892e-04 - acc: 1.0000 - val_loss: 0.0220 - val_acc: 0.9833\n",
            "Epoch 17/50\n",
            "240/240 [==============================] - 1s 3ms/step - loss: 2.8841e-04 - acc: 1.0000 - val_loss: 0.0227 - val_acc: 0.9833\n",
            "Epoch 18/50\n",
            "240/240 [==============================] - 1s 3ms/step - loss: 5.6262e-04 - acc: 1.0000 - val_loss: 0.0208 - val_acc: 0.9833\n",
            "Epoch 19/50\n",
            "240/240 [==============================] - 1s 3ms/step - loss: 5.0015e-04 - acc: 1.0000 - val_loss: 0.0187 - val_acc: 0.9833\n",
            "Epoch 20/50\n",
            "240/240 [==============================] - 1s 3ms/step - loss: 5.5258e-04 - acc: 1.0000 - val_loss: 0.0182 - val_acc: 0.9833\n",
            "Epoch 21/50\n",
            "240/240 [==============================] - 1s 3ms/step - loss: 2.5153e-04 - acc: 1.0000 - val_loss: 0.0175 - val_acc: 0.9833\n",
            "Epoch 22/50\n",
            "240/240 [==============================] - 1s 3ms/step - loss: 2.6464e-04 - acc: 1.0000 - val_loss: 0.0174 - val_acc: 0.9833\n",
            "Epoch 23/50\n",
            "240/240 [==============================] - 1s 3ms/step - loss: 2.4541e-04 - acc: 1.0000 - val_loss: 0.0172 - val_acc: 0.9833\n",
            "Epoch 24/50\n",
            "240/240 [==============================] - 1s 3ms/step - loss: 4.4827e-04 - acc: 1.0000 - val_loss: 0.0189 - val_acc: 0.9833\n",
            "Epoch 25/50\n",
            "240/240 [==============================] - 1s 3ms/step - loss: 3.2304e-04 - acc: 1.0000 - val_loss: 0.0222 - val_acc: 0.9833\n",
            "Epoch 26/50\n",
            "240/240 [==============================] - 1s 3ms/step - loss: 2.9802e-04 - acc: 1.0000 - val_loss: 0.0233 - val_acc: 0.9833\n",
            "Epoch 27/50\n",
            "240/240 [==============================] - 1s 3ms/step - loss: 5.9517e-04 - acc: 1.0000 - val_loss: 0.0214 - val_acc: 0.9833\n",
            "Epoch 28/50\n",
            "240/240 [==============================] - 1s 3ms/step - loss: 4.1316e-04 - acc: 1.0000 - val_loss: 0.0186 - val_acc: 0.9833\n",
            "Epoch 29/50\n",
            "240/240 [==============================] - 1s 3ms/step - loss: 5.1816e-04 - acc: 1.0000 - val_loss: 0.0187 - val_acc: 0.9833\n",
            "Epoch 30/50\n",
            "240/240 [==============================] - 1s 3ms/step - loss: 5.1262e-04 - acc: 1.0000 - val_loss: 0.0257 - val_acc: 0.9833\n",
            "Epoch 31/50\n",
            "240/240 [==============================] - 1s 3ms/step - loss: 4.0999e-04 - acc: 1.0000 - val_loss: 0.0303 - val_acc: 0.9833\n",
            "Epoch 32/50\n",
            "240/240 [==============================] - 1s 3ms/step - loss: 2.6285e-04 - acc: 1.0000 - val_loss: 0.0335 - val_acc: 0.9833\n",
            "Epoch 33/50\n",
            "240/240 [==============================] - 1s 3ms/step - loss: 3.1370e-04 - acc: 1.0000 - val_loss: 0.0333 - val_acc: 0.9833\n",
            "Epoch 34/50\n",
            "240/240 [==============================] - 1s 3ms/step - loss: 4.7797e-04 - acc: 1.0000 - val_loss: 0.0284 - val_acc: 0.9833\n",
            "Epoch 35/50\n",
            "240/240 [==============================] - 1s 3ms/step - loss: 1.6616e-04 - acc: 1.0000 - val_loss: 0.0257 - val_acc: 0.9833\n",
            "Epoch 36/50\n",
            "240/240 [==============================] - 1s 3ms/step - loss: 1.1667e-04 - acc: 1.0000 - val_loss: 0.0243 - val_acc: 0.9833\n",
            "Epoch 37/50\n",
            "240/240 [==============================] - 1s 3ms/step - loss: 3.4156e-04 - acc: 1.0000 - val_loss: 0.0216 - val_acc: 0.9833\n",
            "Epoch 38/50\n",
            "240/240 [==============================] - 1s 3ms/step - loss: 2.4855e-04 - acc: 1.0000 - val_loss: 0.0207 - val_acc: 0.9833\n",
            "Epoch 39/50\n",
            "240/240 [==============================] - 1s 3ms/step - loss: 2.6784e-04 - acc: 1.0000 - val_loss: 0.0205 - val_acc: 0.9833\n",
            "Epoch 40/50\n",
            "240/240 [==============================] - 1s 3ms/step - loss: 3.2762e-04 - acc: 1.0000 - val_loss: 0.0199 - val_acc: 0.9833\n",
            "Epoch 41/50\n",
            "240/240 [==============================] - 1s 3ms/step - loss: 8.7396e-05 - acc: 1.0000 - val_loss: 0.0194 - val_acc: 0.9833\n",
            "Epoch 42/50\n",
            "240/240 [==============================] - 1s 3ms/step - loss: 1.7990e-04 - acc: 1.0000 - val_loss: 0.0194 - val_acc: 0.9833\n",
            "Epoch 43/50\n",
            "240/240 [==============================] - 1s 3ms/step - loss: 1.3023e-04 - acc: 1.0000 - val_loss: 0.0192 - val_acc: 0.9833\n",
            "Epoch 44/50\n",
            "240/240 [==============================] - 1s 3ms/step - loss: 8.3456e-05 - acc: 1.0000 - val_loss: 0.0190 - val_acc: 0.9833\n",
            "Epoch 45/50\n",
            "240/240 [==============================] - 1s 3ms/step - loss: 1.1485e-04 - acc: 1.0000 - val_loss: 0.0189 - val_acc: 0.9833\n",
            "Epoch 46/50\n",
            "240/240 [==============================] - 1s 3ms/step - loss: 2.0420e-04 - acc: 1.0000 - val_loss: 0.0196 - val_acc: 0.9833\n",
            "Epoch 47/50\n",
            "240/240 [==============================] - 1s 3ms/step - loss: 2.8006e-04 - acc: 1.0000 - val_loss: 0.0190 - val_acc: 0.9833\n",
            "Epoch 48/50\n",
            "240/240 [==============================] - 1s 3ms/step - loss: 1.7766e-04 - acc: 1.0000 - val_loss: 0.0187 - val_acc: 0.9833\n",
            "Epoch 49/50\n",
            "240/240 [==============================] - 1s 3ms/step - loss: 1.8804e-04 - acc: 1.0000 - val_loss: 0.0181 - val_acc: 0.9833\n",
            "Epoch 50/50\n",
            "240/240 [==============================] - 1s 3ms/step - loss: 1.5766e-04 - acc: 1.0000 - val_loss: 0.0178 - val_acc: 0.9833\n"
          ],
          "name": "stdout"
        }
      ]
    },
    {
      "cell_type": "code",
      "metadata": {
        "id": "Z8ALLokW9B_T",
        "colab_type": "code",
        "colab": {}
      },
      "source": [
        "def plot_history(hist, eval):\n",
        "  if eval == \"loss\":\n",
        "    plt.plot(hist.history[\"loss\"], label=\"loss for training\")\n",
        "    plt.plot(hist.history[\"val_loss\"], label=\"loss for validation\")\n",
        "    plt.title(\"model loss\")\n",
        "    plt.xlabel(\"epochs\")\n",
        "    plt.ylabel(\"loss\")\n",
        "    plt.legend(loc=\"best\")\n",
        "    plt.show()\n",
        "  if eval == \"acc\":\n",
        "    plt.plot(hist.history[\"acc\"], label=\"acc for training\")\n",
        "    plt.plot(hist.history[\"val_acc\"], label=\"acc for validation\")\n",
        "    plt.title(\"model acc\")\n",
        "    plt.xlabel(\"epochs\")\n",
        "    plt.ylabel(\"acc\")\n",
        "    plt.legend(loc=\"best\")\n",
        "    plt.show()\n",
        "  else:\n",
        "    print(\"invalid eval\")"
      ],
      "execution_count": 0,
      "outputs": []
    },
    {
      "cell_type": "code",
      "metadata": {
        "id": "HGQ7zTuf9cYu",
        "colab_type": "code",
        "colab": {
          "base_uri": "https://localhost:8080/",
          "height": 312
        },
        "outputId": "d2967266-75f2-4c05-b59f-51a35a8f9359"
      },
      "source": [
        "plot_history(hist, eval=\"loss\")"
      ],
      "execution_count": 16,
      "outputs": [
        {
          "output_type": "display_data",
          "data": {
            "image/png": "[encoded data removed]",
            "text/plain": [
              "<Figure size 432x288 with 1 Axes>"
            ]
          },
          "metadata": {
            "tags": []
          }
        },
        {
          "output_type": "stream",
          "text": [
            "invalid eval\n"
          ],
          "name": "stdout"
        }
      ]
    },
    {
      "cell_type": "code",
      "metadata": {
        "id": "Wi8unVvd9d1F",
        "colab_type": "code",
        "colab": {
          "base_uri": "https://localhost:8080/",
          "height": 295
        },
        "outputId": "4d2ea032-743a-450d-b553-f1c48271e6b3"
      },
      "source": [
        "plot_history(hist, eval=\"acc\")"
      ],
      "execution_count": 17,
      "outputs": [
        {
          "output_type": "display_data",
          "data": {
            "image/png": "[encoded data removed]",
            "text/plain": [
              "<Figure size 432x288 with 1 Axes>"
            ]
          },
          "metadata": {
            "tags": []
          }
        }
      ]
    },
    {
      "cell_type": "code",
      "metadata": {
        "id": "DyBL6_iP9gGm",
        "colab_type": "code",
        "colab": {
          "base_uri": "https://localhost:8080/",
          "height": 85
        },
        "outputId": "c4c6fa05-d199-453a-93e8-be9dc2ef2b4a"
      },
      "source": [
        "from sklearn import metrics\n",
        "\n",
        "pred = vgg_model.predict(X_test).argmax(axis=1)\n",
        "y_test = y_test.argmax(axis=1)#One-Hotから復元\n",
        "print('accuracy: %.3f' % metrics.accuracy_score(y_test, pred)) # 正答率\n",
        "print('recall: %.3f' % metrics.recall_score(y_test, pred, average='macro')) # 再現率\n",
        "print('precision: %.3f' % metrics.precision_score(y_test, pred, average='macro')) # 適合率\n",
        "print('f1_score: %.3f' % metrics.f1_score(y_test, pred, average='macro')) # f値"
      ],
      "execution_count": 18,
      "outputs": [
        {
          "output_type": "stream",
          "text": [
            "accuracy: 0.983\n",
            "recall: 0.984\n",
            "precision: 0.983\n",
            "f1_score: 0.983\n"
          ],
          "name": "stdout"
        }
      ]
    },
    {
      "cell_type": "markdown",
      "metadata": {
        "id": "5vQprl1a-jo3",
        "colab_type": "text"
      },
      "source": [
        "# **PICKLE化**"
      ]
    },
    {
      "cell_type": "code",
      "metadata": {
        "id": "PcmVKxrR9iZc",
        "colab_type": "code",
        "colab": {}
      },
      "source": [
        "import pickle\n",
        "\n",
        "with open ('img_list.pickle','wb') as f:\n",
        "  pickle.dump(img_list,f)\n",
        "with open ('tag_list.pickle','wb') as f:\n",
        "  pickle.dump(label_list,f)"
      ],
      "execution_count": 0,
      "outputs": []
    },
    {
      "cell_type": "code",
      "metadata": {
        "id": "1g17ctMG-44R",
        "colab_type": "code",
        "colab": {}
      },
      "source": [
        "def unpickle(file):\n",
        "    # 保存されたpickleファイルを読み込み\n",
        "    # 'rb'は｢読み込み専用(r)｣かつ｢バイト列(b)｣を意味する\n",
        "    with open(file, 'rb') as f:\n",
        "        return pickle.load(f, encoding='bytes')"
      ],
      "execution_count": 0,
      "outputs": []
    },
    {
      "cell_type": "markdown",
      "metadata": {
        "id": "MQK_omi5AYT6",
        "colab_type": "text"
      },
      "source": [
        "# **モデル、学習結果の保存**"
      ]
    },
    {
      "cell_type": "code",
      "metadata": {
        "id": "bYBGEAwNAYH5",
        "colab_type": "code",
        "colab": {}
      },
      "source": [
        "open('mask_NN.json',\"w\").write(vgg_model.to_json())\n",
        "vgg_model.save_weights('mask_NN_weight.h5')"
      ],
      "execution_count": 0,
      "outputs": []
    },
    {
      "cell_type": "code",
      "metadata": {
        "id": "MMherYxF_zHH",
        "colab_type": "code",
        "colab": {}
      },
      "source": [
        "from keras.models import Sequential, model_from_json\n",
        "model = model_from_json(open('mask_NN.json', 'r').read())\n",
        "model.load_weights('mask_NN_weight.h5')"
      ],
      "execution_count": 0,
      "outputs": []
    },
    {
      "cell_type": "code",
      "metadata": {
        "id": "FmoNEN6FCyxt",
        "colab_type": "code",
        "colab": {}
      },
      "source": [
        "def detect_mask(img_path):\n",
        "  img=Image.open(img_path)\n",
        "  img = img.resize((img_width, img_height))\n",
        "  img = np.array(img)\n",
        "  plt.imshow(img)\n",
        "  img=img.reshape([1,128,128,3])\n",
        "  pred=vgg_model.predict(img)\n",
        "  print(classes[pred.argmax()])"
      ],
      "execution_count": 0,
      "outputs": []
    },
    {
      "cell_type": "code",
      "metadata": {
        "id": "ie11ei3JDlhl",
        "colab_type": "code",
        "colab": {
          "base_uri": "https://localhost:8080/",
          "height": 34
        },
        "outputId": "41f0cf0f-5826-4588-b2b2-cffdc7a62031"
      },
      "source": [
        "img=IMG[156].reshape([1,128,128,3])\n",
        "pred=model.predict(img)\n",
        "print(classes[pred.argmax()])"
      ],
      "execution_count": 49,
      "outputs": [
        {
          "output_type": "stream",
          "text": [
            "no-mask\n"
          ],
          "name": "stdout"
        }
      ]
    },
    {
      "cell_type": "code",
      "metadata": {
        "id": "_RA45K1qDuE0",
        "colab_type": "code",
        "colab": {}
      },
      "source": [
        ""
      ],
      "execution_count": 0,
      "outputs": []
    }
  ]
}